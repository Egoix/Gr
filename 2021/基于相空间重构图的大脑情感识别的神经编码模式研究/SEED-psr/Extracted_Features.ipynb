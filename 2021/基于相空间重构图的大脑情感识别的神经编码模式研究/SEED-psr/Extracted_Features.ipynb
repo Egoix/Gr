{
 "cells": [
  {
   "cell_type": "code",
   "execution_count": 7,
   "metadata": {},
   "outputs": [],
   "source": [
    "import mne\n",
    "import numpy as np\n",
    "import scipy.io\n",
    "import matplotlib.pyplot as plt\n",
    "\n",
    "#加载数据\n",
    "for i in range(1,16):\n",
    "    for j in range(1,4):\n",
    "        data = scipy.io.loadmat(f'D:\\数据集\\SEED\\ExtractedFeatures//{i}_{j}.mat')\n",
    "        a2=np.zeros((15,62))\n",
    "        for k in range(1,16):\n",
    "            psd_lds=data[f\"psd_LDS{k}\"]\n",
    "            for m in range(5):\n",
    "                a=psd_lds[:,:,m]\n",
    "                b=np.median(a,axis = 1)\n",
    "                a2[k-1,:] = b\n",
    "                #np.savetxt(f'{i}_{j}_{m}psd_.csv', a2, delimiter=',')"
   ]
  },
  {
   "cell_type": "code",
   "execution_count": null,
   "metadata": {},
   "outputs": [],
   "source": [
    "b"
   ]
  },
  {
   "cell_type": "code",
   "execution_count": null,
   "metadata": {},
   "outputs": [],
   "source": []
  }
 ],
 "metadata": {
  "kernelspec": {
   "display_name": "Python 3",
   "language": "python",
   "name": "python3"
  },
  "language_info": {
   "codemirror_mode": {
    "name": "ipython",
    "version": 3
   },
   "file_extension": ".py",
   "mimetype": "text/x-python",
   "name": "python",
   "nbconvert_exporter": "python",
   "pygments_lexer": "ipython3",
   "version": "3.8.5"
  }
 },
 "nbformat": 4,
 "nbformat_minor": 4
}
