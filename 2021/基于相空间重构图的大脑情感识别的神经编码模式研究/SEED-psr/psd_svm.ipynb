{
 "cells": [
  {
   "cell_type": "code",
   "execution_count": 53,
   "metadata": {},
   "outputs": [
    {
     "name": "stdout",
     "output_type": "stream",
     "text": [
      "675\n"
     ]
    }
   ],
   "source": [
    "import pandas as pd\n",
    "import numpy as np\n",
    "#读取数据\n",
    "data = pd.read_csv('psd_4\\\\all.csv',\n",
    "            names=['FP1','FPZ','FP2','AF3','AF4','F7','F5','F3','F1','FZ','F2','F4','F6'\n",
    "            ,'F8','FT7','FC5','FC3','FC1','FCZ','FC2','FC4','FC6','FT8','T7','C5'\n",
    "            ,'C3','C1','CZ','C2','C4','C6','T8','TP7','CP5','CP3','CP1','CPZ','CP2'\n",
    "            ,'CP4','CP6','TP8','P7','P5','P3','P1','PZ','P2','P4','P6','P8','PO7'\n",
    "            ,'PO5','PO3','POZ','PO4','PO6','PO8','CB1','O1','OZ','O2','CB2'],\n",
    "            skiprows=0,skipfooter=0,\n",
    "            sep=',',index_col=False,engine=\"python\")\n",
    "#print(data)\n",
    "#数据列长62，将dataframe中的列全部显示出来\n",
    "pd.set_option('display.max_columns', None)\n",
    "#输出属性行\n",
    "#print(data.columns)\n",
    "data1 = np.array([3,2,1,1,2,3,1,2,3,3,2,1,2,3,1])\n",
    "data2 = data1\n",
    "for i in range(44):\n",
    "    data2 = np.append(data2,data1)\n",
    "print(len(data2))\n",
    "#将新列的名字设置为label\n",
    "data['label'] = data2 \n",
    "#mode=a，以追加模式写入,header表示列名，默认为true,index表示行名，默认为true，再次写入不需要行名\n",
    "data.to_csv('psd_4.csv',mode = 'a',index =False)\n",
    "\n",
    "#将label和data分离\n",
    "#data=pd.read_csv('1_1.csv',\n",
    "                   #sep=',',index_col=False,engine=\"python\")\n",
    "#print(data)\n",
    "\n",
    "\n",
    "\n",
    "\n"
   ]
  },
  {
   "cell_type": "code",
   "execution_count": 18,
   "metadata": {},
   "outputs": [
    {
     "name": "stdout",
     "output_type": "stream",
     "text": [
      "[0.5 0.5 0.5]\n",
      "0.5\n",
      "0.0\n"
     ]
    }
   ],
   "source": [
    "import pandas as pd\n",
    "import numpy as np\n",
    "import seaborn as sns\n",
    "from sklearn.svm import SVC, LinearSVC\n",
    "from sklearn.model_selection import train_test_split\n",
    "from sklearn.preprocessing import StandardScaler\n",
    "from sklearn import metrics\n",
    "import matplotlib.pyplot as plt\n",
    "from sklearn.model_selection import KFold,StratifiedKFold\n",
    "from sklearn.model_selection import cross_val_score\n",
    "from sklearn.model_selection import GridSearchCV\n",
    "from sklearn.tree import DecisionTreeClassifier\n",
    "\n",
    "#将label和data分离\n",
    "data=pd.read_csv('psd_4.csv',\n",
    "                   sep=',',index_col=False,engine=\"python\")\n",
    "\n",
    " #选取特征值:前额叶区通道\n",
    "#features_remain = ['FP1','FP1','FPZ','FP2','AF3','AF4']\n",
    "#选取特征值:62通道\n",
    "features_remain = ['FP1','FP1','FPZ','FP2','AF3','AF4','F7','F5','F3','F1','FZ','F2','F4','F6','F8','FT7','FC5','FC3','FC1','FCZ','FC2','FC4','FC6','FT8','T7','C5','C3','C1','CZ','C2','C4','C6','T8','TP7','CP5','CP3','CP1','CPZ','CP2','CP4','CP6','TP8','P7','P5','P3','P1','PZ','P2','P4','P6','P8','PO7','PO5','PO3','POZ','PO4','PO6','PO8','CB1','O1','OZ','O2','CB2']\n",
    "#选取特征值:53通道\n",
    "#features_remain = ['FP1','FP1','FPZ','FP2','AF3','AF4','F3','F1','FZ','F2','FC5','FC3','FC1','FCZ','FC2','FC4','FC6','C5','C3','C1','C2','C4','C6','T8','TP7','CP5','CP3','CP1','CPZ','CP2','CP4','CP6','TP8','P7','P5','P3','PZ','P2','P4','P6','P8','PO7','PO5','PO3','POZ','PO4','PO8','CB1','O1','OZ','O2','CB2']\n",
    "#选取特征值:12通道\n",
    "#features_remain = ['FT7','FT8','T7','T8','C5','C6','TP7','TP8','CP5','CP6','P7','P8']\n",
    "\n",
    "#三分类\n",
    "#删除行\n",
    "#选取出label等于1,2,3的行,取反\n",
    "data = data[~data['label'].isin([1])] \n",
    "\n",
    "\n",
    "\n",
    "#调参C\n",
    "data2=data[features_remain]\n",
    "data_label=data['label']\n",
    "\n",
    "#创建svm分类器对象\n",
    "model = SVC(kernel='rbf', gamma='auto')\n",
    "#对分类器进行5*5交叉验证\n",
    "gs=GridSearchCV(estimator=model,\n",
    "                param_grid=[{'C':[1,2,3,4,5,6,7,8,9,10]}],\n",
    "                scoring='accuracy',\n",
    "                cv=5)\n",
    "scores = cross_val_score(gs,data2, data_label, cv=3)\n",
    "#查看验证结果\n",
    "print(scores)\n",
    "#查看均值\n",
    "print(scores.mean())\n",
    "#查看标准差\n",
    "print(scores.std())\n"
   ]
  },
  {
   "cell_type": "code",
   "execution_count": null,
   "metadata": {},
   "outputs": [],
   "source": []
  }
 ],
 "metadata": {
  "kernelspec": {
   "display_name": "Python 3",
   "language": "python",
   "name": "python3"
  },
  "language_info": {
   "codemirror_mode": {
    "name": "ipython",
    "version": 3
   },
   "file_extension": ".py",
   "mimetype": "text/x-python",
   "name": "python",
   "nbconvert_exporter": "python",
   "pygments_lexer": "ipython3",
   "version": "3.8.5"
  }
 },
 "nbformat": 4,
 "nbformat_minor": 4
}
