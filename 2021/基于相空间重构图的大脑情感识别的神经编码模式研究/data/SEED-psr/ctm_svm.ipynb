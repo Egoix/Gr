{
 "cells": [
  {
   "cell_type": "code",
   "execution_count": 32,
   "metadata": {
    "scrolled": false
   },
   "outputs": [
    {
     "name": "stdout",
     "output_type": "stream",
     "text": [
      "675\n"
     ]
    }
   ],
   "source": [
    "import pandas as pd\n",
    "import numpy as np\n",
    "#读取数据\n",
    "data = pd.read_csv('train\\\\all.csv',\n",
    "            names=['FP1','FPZ','FP2','AF3','AF4','F7','F5','F3','F1','FZ','F2','F4','F6'\n",
    "            ,'F8','FT7','FC5','FC3','FC1','FCZ','FC2','FC4','FC6','FT8','T7','C5'\n",
    "            ,'C3','C1','CZ','C2','C4','C6','T8','TP7','CP5','CP3','CP1','CPZ','CP2'\n",
    "            ,'CP4','CP6','TP8','P7','P5','P3','P1','PZ','P2','P4','P6','P8','PO7'\n",
    "            ,'PO5','PO3','POZ','PO4','PO6','PO8','CB1','O1','OZ','O2','CB2'],\n",
    "            skiprows=0,skipfooter=0,\n",
    "            sep=',',index_col=False,engine=\"python\")\n",
    "#print(data)\n",
    "#数据列长62，将dataframe中的列全部显示出来\n",
    "pd.set_option('display.max_columns', None)\n",
    "#输出属性行\n",
    "#print(data.columns)\n",
    "data1 = np.array([3,2,1,1,2,3,1,2,3,3,2,1,2,3,1])\n",
    "data2 = data1\n",
    "for i in range(44):\n",
    "    data2 = np.append(data2,data1)\n",
    "print(len(data2))\n",
    "#将新列的名字设置为label\n",
    "#data['label'] = data2 \n",
    "#mode=a，以追加模式写入,header表示列名，默认为true,index表示行名，默认为true，再次写入不需要行名\n",
    "#data.to_csv('test_1.csv',mode = 'a',index =False)\n",
    "\n",
    "#将label和data分离\n",
    "#data=pd.read_csv('1_1.csv',\n",
    "                   #sep=',',index_col=False,engine=\"python\")\n",
    "print(data)\n",
    "\n",
    "\n"
   ]
  },
  {
   "cell_type": "code",
   "execution_count": 21,
   "metadata": {
    "scrolled": false
   },
   "outputs": [
    {
     "data": {
      "image/png": "[encoded data removed]",
      "text/plain": [
       "<Figure size 432x288 with 1 Axes>"
      ]
     },
     "metadata": {
      "needs_background": "light"
     },
     "output_type": "display_data"
    },
    {
     "name": "stdout",
     "output_type": "stream",
     "text": [
      "准确率： 0.5166666666666667\n",
      "[0.35555556 0.34814815 0.37777778 0.36296296 0.33333333]\n",
      "0.3555555555555555\n",
      "0.014814814814814819\n"
     ]
    }
   ],
   "source": [
    "import pandas as pd\n",
    "import numpy as np\n",
    "import seaborn as sns\n",
    "from sklearn.svm import SVC, LinearSVC\n",
    "from sklearn.model_selection import train_test_split\n",
    "from sklearn.preprocessing import StandardScaler\n",
    "from sklearn import metrics\n",
    "import matplotlib.pyplot as plt\n",
    "from sklearn.model_selection import KFold,StratifiedKFold\n",
    "from sklearn.model_selection import cross_val_score\n",
    "from sklearn.model_selection import GridSearchCV\n",
    "from sklearn.tree import DecisionTreeClassifier\n",
    "#三分类\n",
    "#将label和data分离\n",
    "data=pd.read_csv('test\\\\test.csv',\n",
    "                   sep=',',index_col=False,engine=\"python\")\n",
    "\n",
    "#选取特征值:前额叶区通道\n",
    "features_remain = ['FP1','FP1','FPZ','FP2','AF3','AF4']\n",
    "#抽取数据作为测试集，其余作为训练集\n",
    "#train, test = train_test_split(data, test_size = 0.4)\n",
    "#抽取特征选择的数值作为训练和测试数据\n",
    "#train_X = train[features_remain]\n",
    "#train_y=train['label']\n",
    "#test_X= test[features_remain]\n",
    "#test_y =test['label']\n",
    "#print(train)\n",
    "#print(test)\n",
    "#model = SVC(kernel='rbf', C=9, gamma='auto')\n",
    "#用训练集训练：\n",
    "#model.fit(train_X, train_y)\n",
    "#print(model.classes_)\n",
    "#用测试集预测：\n",
    "#prediction1 = model.predict(test_X)\n",
    "#调参C\n",
    "accuracy = []\n",
    "x = np.arange(1, 15, 1)\n",
    "k=0\n",
    "for i in x:\n",
    "    model = SVC(kernel='rbf', C=i, gamma='auto')\n",
    "    model.fit(train_X, train_y)\n",
    "    prediction = model.predict(test_X)\n",
    "    accuracy.append(metrics.accuracy_score(prediction, test_y))\n",
    "    k=max(metrics.accuracy_score(prediction, test_y),k)\n",
    "k=metrics.accuracy_score(prediction1, test_y)\n",
    "y = np.array(accuracy)\n",
    "plt.plot(x, y)\n",
    "plt.show()\n",
    "print('准确率：', k)\n",
    "\n",
    "data2=data[features_remain]\n",
    "data_label=data['label']\n",
    "\n",
    "#创建svm分类器对象\n",
    "model = SVC(kernel='rbf', gamma='auto')\n",
    "#对分类器进行交叉验证\n",
    "gs=GridSearchCV(estimator=model,\n",
    "                param_grid=[{'C':[1,2,3,4,5,6,7,8,9,10]}],\n",
    "                scoring='accuracy',\n",
    "                cv=5)\n",
    "scores = cross_val_score(gs,data2, data_label, cv=5)\n",
    "#查看验证结果\n",
    "print(scores)\n",
    "#查看均值\n",
    "print(scores.mean())\n",
    "#查看标准差\n",
    "print(scores.std())\n"
   ]
  },
  {
   "cell_type": "code",
   "execution_count": 22,
   "metadata": {},
   "outputs": [
    {
     "data": {
      "image/png": "[encoded data removed]",
      "text/plain": [
       "<Figure size 432x288 with 1 Axes>"
      ]
     },
     "metadata": {
      "needs_background": "light"
     },
     "output_type": "display_data"
    },
    {
     "name": "stdout",
     "output_type": "stream",
     "text": [
      "准确率： 0.5166666666666667\n",
      "[0.51111111 0.51111111 0.42222222 0.54444444 0.56666667]\n",
      "0.5111111111111111\n",
      "0.04919098582484145\n"
     ]
    }
   ],
   "source": [
    "import pandas as pd\n",
    "import numpy as np\n",
    "data=pd.read_csv('test\\\\test.csv',\n",
    "                   sep=',',index_col=False,engine=\"python\")\n",
    "#删除行\n",
    "# 选取出label等于3 的行,取反\n",
    "data = data[~data['label'].isin([3])] \n",
    "#print(data)\n",
    "\n",
    "#选取特征值:前额叶区通道\n",
    "features_remain = ['FP1','FP1','FPZ','FP2','AF3','AF4']\n",
    "#抽取数据作为测试集，其余作为训练集\n",
    "train, test = train_test_split(data, test_size = 0.4)\n",
    "#抽取特征选择的数值作为训练和测试数据\n",
    "train_X = train[features_remain]\n",
    "train_y=train['label']\n",
    "test_X= test[features_remain]\n",
    "test_y =test['label']\n",
    "#print(train)\n",
    "#print(test)\n",
    "model = SVC(kernel='rbf', C=9, gamma='auto')\n",
    "# 用训练集训练：\n",
    "model.fit(train_X, train_y)\n",
    "#print(model.classes_)\n",
    "# 用测试集预测：\n",
    "prediction1 = model.predict(test_X)\n",
    "#x=c y=accuracy\n",
    "accuracy = []\n",
    "x = np.arange(1, 15, 1)\n",
    "#k=0\n",
    "for i in x:\n",
    "    model = SVC(kernel='rbf', C=i, gamma='auto')\n",
    "    model.fit(train_X, train_y)\n",
    "    prediction = model.predict(test_X)\n",
    "    accuracy.append(metrics.accuracy_score(prediction, test_y))\n",
    "    #k=max(metrics.accuracy_score(prediction, test_y),k)\n",
    "k=metrics.accuracy_score(prediction1, test_y)\n",
    "y = np.array(accuracy)\n",
    "plt.plot(x, y)\n",
    "plt.show()\n",
    "print('准确率：', k)\n",
    "\n",
    "data2=data[features_remain]\n",
    "data_label=data['label']\n",
    "#创建svm分类器对象\n",
    "model = SVC(kernel='rbf', gamma='auto')\n",
    "#对分类器进行交叉验证\n",
    "gs=GridSearchCV(estimator=model,\n",
    "                param_grid=[{'C':[1,2,3,4,5,6,7,8,9,10]}],\n",
    "                scoring='accuracy',\n",
    "                cv=5)\n",
    "scores = cross_val_score(gs,data2, data_label, cv=5)\n",
    "#查看验证结果\n",
    "print(scores)\n",
    "#查看均值\n",
    "print(scores.mean())\n",
    "#查看标准差\n",
    "print(scores.std())\n"
   ]
  },
  {
   "cell_type": "code",
   "execution_count": 6,
   "metadata": {},
   "outputs": [
    {
     "data": {
      "image/png": "[encoded data removed]",
      "text/plain": [
       "<Figure size 432x288 with 1 Axes>"
      ]
     },
     "metadata": {
      "needs_background": "light"
     },
     "output_type": "display_data"
    },
    {
     "name": "stdout",
     "output_type": "stream",
     "text": [
      "准确率： 0.55\n",
      "[0.52222222 0.48888889 0.64444444 0.47777778 0.51111111]\n",
      "0.5288888888888889\n",
      "0.05987641593469992\n"
     ]
    }
   ],
   "source": [
    "import pandas as pd\n",
    "import numpy as np\n",
    "data=pd.read_csv('test_1.csv',\n",
    "                   sep=',',index_col=False,engine=\"python\")\n",
    "#删除行\n",
    "# 选取出label等于2 的行,取反\n",
    "data = data[~data['label'].isin([2])] \n",
    "#print(data)\n",
    "\n",
    "#选取特征值:前额叶区通道\n",
    "features_remain = ['FP1','FP1','FPZ','FP2','AF3','AF4']\n",
    "#抽取数据作为测试集，其余作为训练集\n",
    "train, test = train_test_split(data, test_size = 0.4)\n",
    "#抽取特征选择的数值作为训练和测试数据\n",
    "train_X = train[features_remain]\n",
    "train_y=train['label']\n",
    "test_X= test[features_remain]\n",
    "test_y =test['label']\n",
    "#print(train)\n",
    "#print(test)\n",
    "model = SVC(kernel='rbf', C=9, gamma='auto')\n",
    "# 用训练集训练：\n",
    "model.fit(train_X, train_y)\n",
    "#print(model.classes_)\n",
    "# 用测试集预测：\n",
    "prediction1 = model.predict(test_X)\n",
    "#x=c y=accuracy\n",
    "accuracy = []\n",
    "x = np.arange(1, 15, 1)\n",
    "#k=0\n",
    "for i in x:\n",
    "    model = SVC(kernel='rbf', C=i, gamma='auto')\n",
    "    model.fit(train_X, train_y)\n",
    "    prediction = model.predict(test_X)\n",
    "    accuracy.append(metrics.accuracy_score(prediction, test_y))\n",
    "    #k=max(metrics.accuracy_score(prediction, test_y),k)\n",
    "k=metrics.accuracy_score(prediction1, test_y)\n",
    "y = np.array(accuracy)\n",
    "plt.plot(x, y)\n",
    "plt.show()\n",
    "print('准确率：', k)\n",
    "\n",
    "\n",
    "data2=data[features_remain]\n",
    "data_label=data['label']\n",
    "#创建svm分类器对象\n",
    "model = SVC(kernel='rbf', gamma='auto')\n",
    "#对分类器进行交叉验证\n",
    "gs=GridSearchCV(estimator=model,\n",
    "                param_grid=[{'C':[1,2,3,4,5,6,7,8,9,10]}],\n",
    "                scoring='accuracy',\n",
    "                cv=5)\n",
    "scores = cross_val_score(gs,data2, data_label, cv=5)\n",
    "#查看验证结果\n",
    "print(scores)\n",
    "#查看均值\n",
    "print(scores.mean())\n",
    "#查看标准差\n",
    "print(scores.std())\n"
   ]
  },
  {
   "cell_type": "code",
   "execution_count": 23,
   "metadata": {},
   "outputs": [
    {
     "data": {
      "image/png": "[encoded data removed]",
      "text/plain": [
       "<Figure size 432x288 with 1 Axes>"
      ]
     },
     "metadata": {
      "needs_background": "light"
     },
     "output_type": "display_data"
    },
    {
     "name": "stdout",
     "output_type": "stream",
     "text": [
      "准确率： 0.4388888888888889\n",
      "[0.53333333 0.53333333 0.54444444 0.55555556 0.44444444]\n",
      "0.5222222222222224\n",
      "0.03975231959999627\n"
     ]
    }
   ],
   "source": [
    "import pandas as pd\n",
    "import numpy as np\n",
    "data=pd.read_csv('test\\\\test.csv',\n",
    "                   sep=',',index_col=False,engine=\"python\")\n",
    "#删除行\n",
    "# 选取出label等于2 的行,取反\n",
    "data = data[~data['label'].isin([1])] \n",
    "#print(data)\n",
    "\n",
    "#选取特征值:前额叶区通道\n",
    "features_remain = ['FP1','FP1','FPZ','FP2','AF3','AF4']\n",
    "#抽取数据作为测试集，其余作为训练集\n",
    "train, test = train_test_split(data, test_size = 0.4)\n",
    "#抽取特征选择的数值作为训练和测试数据\n",
    "train_X = train[features_remain]\n",
    "train_y=train['label']\n",
    "test_X= test[features_remain]\n",
    "test_y =test['label']\n",
    "#print(train)\n",
    "#print(test)\n",
    "model = SVC(kernel='rbf', C=9, gamma='auto')\n",
    "# 用训练集训练：\n",
    "model.fit(train_X, train_y)\n",
    "#print(model.classes_)\n",
    "# 用测试集预测：\n",
    "prediction1 = model.predict(test_X)\n",
    "#x=c y=accuracy\n",
    "accuracy = []\n",
    "x = np.arange(1, 15, 1)\n",
    "#k=0\n",
    "for i in x:\n",
    "    model = SVC(kernel='rbf', C=i, gamma='auto')\n",
    "    model.fit(train_X, train_y)\n",
    "    prediction = model.predict(test_X)\n",
    "    accuracy.append(metrics.accuracy_score(prediction, test_y))\n",
    "    #k=max(metrics.accuracy_score(prediction, test_y),k)\n",
    "k=metrics.accuracy_score(prediction1, test_y)\n",
    "y = np.array(accuracy)\n",
    "plt.plot(x, y)\n",
    "plt.show()\n",
    "print('准确率：', k)\n",
    "\n",
    "\n",
    "data2=data[features_remain]\n",
    "data_label=data['label']\n",
    "#创建svm分类器对象\n",
    "model = SVC(kernel='rbf', gamma='auto')\n",
    "#对分类器进行交叉验证\n",
    "gs=GridSearchCV(estimator=model,\n",
    "                param_grid=[{'C':[1,2,3,4,5,6,7,8,9,10]}],\n",
    "                scoring='accuracy',\n",
    "                cv=5)\n",
    "scores = cross_val_score(gs,data2, data_label, cv=5)\n",
    "#查看验证结果\n",
    "print(scores)\n",
    "#查看均值\n",
    "print(scores.mean())\n",
    "#查看标准差\n",
    "print(scores.std())\n",
    "\n"
   ]
  },
  {
   "cell_type": "code",
   "execution_count": 24,
   "metadata": {},
   "outputs": [
    {
     "data": {
      "image/png": "[encoded data removed]",
      "text/plain": [
       "<Figure size 432x288 with 1 Axes>"
      ]
     },
     "metadata": {
      "needs_background": "light"
     },
     "output_type": "display_data"
    },
    {
     "name": "stdout",
     "output_type": "stream",
     "text": [
      "准确率： 0.5\n",
      "[0.54814815 0.53333333 0.51111111 0.38518519 0.56296296]\n",
      "0.5081481481481481\n",
      "0.0638241754919645\n"
     ]
    }
   ],
   "source": [
    "import pandas as pd\n",
    "import numpy as np\n",
    "data=pd.read_csv('test\\\\test.csv',\n",
    "                   sep=',',index_col=False,engine=\"python\")\n",
    "#删除行\n",
    "# 选取出label等于2 的行,取反\n",
    "#data = data[~data['label'].isin([3])] \n",
    "#print(data)\n",
    "\n",
    "#选取特征值:62通道\n",
    "features_remain = ['FP1','FP1','FPZ','FP2','AF3','AF4','F7','F5','F3','F1','FZ','F2','F4','F6'\n",
    "            ,'F8','FT7','FC5','FC3','FC1','FCZ','FC2','FC4','FC6','FT8','T7','C5'\n",
    "            ,'C3','C1','CZ','C2','C4','C6','T8','TP7','CP5','CP3','CP1','CPZ','CP2'\n",
    "            ,'CP4','CP6','TP8','P7','P5','P3','P1','PZ','P2','P4','P6','P8','PO7'\n",
    "            ,'PO5','PO3','POZ','PO4','PO6','PO8','CB1','O1','OZ','O2','CB2']\n",
    "#抽取数据作为测试集，其余作为训练集\n",
    "train, test = train_test_split(data, test_size = 0.4)\n",
    "#抽取特征选择的数值作为训练和测试数据\n",
    "train_X = train[features_remain]\n",
    "train_y=train['label']\n",
    "test_X= test[features_remain]\n",
    "test_y =test['label']\n",
    "#print(train)\n",
    "#print(test)\n",
    "model = SVC(kernel='rbf', C=9, gamma='auto')\n",
    "# 用训练集训练：\n",
    "model.fit(train_X, train_y)\n",
    "#print(model.classes_)\n",
    "# 用测试集预测：\n",
    "prediction1 = model.predict(test_X)\n",
    "#x=c y=accuracy\n",
    "accuracy = []\n",
    "x = np.arange(1, 15, 1)\n",
    "#k=0\n",
    "for i in x:\n",
    "    model = SVC(kernel='rbf', C=i, gamma='auto')\n",
    "    model.fit(train_X, train_y)\n",
    "    prediction = model.predict(test_X)\n",
    "    accuracy.append(metrics.accuracy_score(prediction, test_y))\n",
    "    #k=max(metrics.accuracy_score(prediction, test_y),k)\n",
    "k=metrics.accuracy_score(prediction1, test_y)\n",
    "y = np.array(accuracy)\n",
    "plt.plot(x, y)\n",
    "plt.show()\n",
    "print('准确率：', k)\n",
    "\n",
    "\n",
    "data2=data[features_remain]\n",
    "data_label=data['label']\n",
    "#创建svm分类器对象\n",
    "model = SVC(kernel='rbf', gamma='auto')\n",
    "#对分类器进行交叉验证\n",
    "gs=GridSearchCV(estimator=model,\n",
    "                param_grid=[{'C':[1,2,3,4,5,6,7,8,9,10]}],\n",
    "                scoring='accuracy',\n",
    "                cv=5)\n",
    "scores = cross_val_score(gs,data2, data_label, cv=5)\n",
    "#查看验证结果\n",
    "print(scores)\n",
    "#查看均值\n",
    "print(scores.mean())\n",
    "#查看标准差\n",
    "print(scores.std())\n"
   ]
  },
  {
   "cell_type": "code",
   "execution_count": 25,
   "metadata": {},
   "outputs": [
    {
     "data": {
      "image/png": "[encoded data removed]",
      "text/plain": [
       "<Figure size 432x288 with 1 Axes>"
      ]
     },
     "metadata": {
      "needs_background": "light"
     },
     "output_type": "display_data"
    },
    {
     "name": "stdout",
     "output_type": "stream",
     "text": [
      "准确率： 0.6\n",
      "[0.55555556 0.56666667 0.66666667 0.51111111 0.58888889]\n",
      "0.5777777777777777\n",
      "0.05115939748098373\n"
     ]
    }
   ],
   "source": [
    "import pandas as pd\n",
    "import numpy as np\n",
    "data=pd.read_csv('test\\\\test.csv',\n",
    "                   sep=',',index_col=False,engine=\"python\")\n",
    "#删除行\n",
    "# 选取出label等于3的行,取反\n",
    "data = data[~data['label'].isin([3])] \n",
    "#print(data)\n",
    "\n",
    "#选取特征值:62通道\n",
    "features_remain = ['FP1','FP1','FPZ','FP2','AF3','AF4','F7','F5','F3','F1','FZ','F2','F4','F6'\n",
    "            ,'F8','FT7','FC5','FC3','FC1','FCZ','FC2','FC4','FC6','FT8','T7','C5'\n",
    "            ,'C3','C1','CZ','C2','C4','C6','T8','TP7','CP5','CP3','CP1','CPZ','CP2'\n",
    "            ,'CP4','CP6','TP8','P7','P5','P3','P1','PZ','P2','P4','P6','P8','PO7'\n",
    "            ,'PO5','PO3','POZ','PO4','PO6','PO8','CB1','O1','OZ','O2','CB2']\n",
    "#抽取数据作为测试集，其余作为训练集\n",
    "train, test = train_test_split(data, test_size = 0.4)\n",
    "#抽取特征选择的数值作为训练和测试数据\n",
    "train_X = train[features_remain]\n",
    "train_y=train['label']\n",
    "test_X= test[features_remain]\n",
    "test_y =test['label']\n",
    "#print(train)\n",
    "#print(test)\n",
    "model = SVC(kernel='rbf', C=9, gamma='auto')\n",
    "# 用训练集训练：\n",
    "model.fit(train_X, train_y)\n",
    "#print(model.classes_)\n",
    "# 用测试集预测：\n",
    "prediction1 = model.predict(test_X)\n",
    "#x=c y=accuracy\n",
    "accuracy = []\n",
    "x = np.arange(1, 15, 1)\n",
    "#k=0\n",
    "for i in x:\n",
    "    model = SVC(kernel='rbf', C=i, gamma='auto')\n",
    "    model.fit(train_X, train_y)\n",
    "    prediction = model.predict(test_X)\n",
    "    accuracy.append(metrics.accuracy_score(prediction, test_y))\n",
    "    #k=max(metrics.accuracy_score(prediction, test_y),k)\n",
    "k=metrics.accuracy_score(prediction1, test_y)\n",
    "y = np.array(accuracy)\n",
    "plt.plot(x, y)\n",
    "plt.show()\n",
    "print('准确率：', k)\n",
    "\n",
    "\n",
    "data2=data[features_remain]\n",
    "data_label=data['label']\n",
    "#创建svm分类器对象\n",
    "model = SVC(kernel='rbf', gamma='auto')\n",
    "#对分类器进行交叉验证\n",
    "gs=GridSearchCV(estimator=model,\n",
    "                param_grid=[{'C':[1,2,3,4,5,6,7,8,9,10]}],\n",
    "                scoring='accuracy',\n",
    "                cv=5)\n",
    "scores = cross_val_score(gs,data2, data_label, cv=5)\n",
    "#查看验证结果\n",
    "print(scores)\n",
    "#查看均值\n",
    "print(scores.mean())\n",
    "#查看标准差\n",
    "print(scores.std())\n"
   ]
  },
  {
   "cell_type": "code",
   "execution_count": 26,
   "metadata": {},
   "outputs": [
    {
     "data": {
      "image/png": "[encoded data removed]",
      "text/plain": [
       "<Figure size 432x288 with 1 Axes>"
      ]
     },
     "metadata": {
      "needs_background": "light"
     },
     "output_type": "display_data"
    },
    {
     "name": "stdout",
     "output_type": "stream",
     "text": [
      "准确率： 0.75\n",
      "[0.71111111 0.81111111 0.6        0.64444444 0.75555556]\n",
      "0.7044444444444444\n",
      "0.07555555555555556\n"
     ]
    }
   ],
   "source": [
    "import pandas as pd\n",
    "import numpy as np\n",
    "data=pd.read_csv('test\\\\test.csv',\n",
    "                   sep=',',index_col=False,engine=\"python\")\n",
    "#删除行\n",
    "# 选取出label等于2的行,取反\n",
    "data = data[~data['label'].isin([2])] \n",
    "#print(data)\n",
    "\n",
    "#选取特征值:62通道\n",
    "features_remain = ['FP1','FP1','FPZ','FP2','AF3','AF4','F7','F5','F3','F1','FZ','F2','F4','F6'\n",
    "            ,'F8','FT7','FC5','FC3','FC1','FCZ','FC2','FC4','FC6','FT8','T7','C5'\n",
    "            ,'C3','C1','CZ','C2','C4','C6','T8','TP7','CP5','CP3','CP1','CPZ','CP2'\n",
    "            ,'CP4','CP6','TP8','P7','P5','P3','P1','PZ','P2','P4','P6','P8','PO7'\n",
    "            ,'PO5','PO3','POZ','PO4','PO6','PO8','CB1','O1','OZ','O2','CB2']\n",
    "#抽取数据作为测试集，其余作为训练集\n",
    "train, test = train_test_split(data, test_size = 0.4)\n",
    "#抽取特征选择的数值作为训练和测试数据\n",
    "train_X = train[features_remain]\n",
    "train_y=train['label']\n",
    "test_X= test[features_remain]\n",
    "test_y =test['label']\n",
    "#print(train)\n",
    "#print(test)\n",
    "model = SVC(kernel='rbf', C=9, gamma='auto')\n",
    "# 用训练集训练：\n",
    "model.fit(train_X, train_y)\n",
    "#print(model.classes_)\n",
    "# 用测试集预测：\n",
    "prediction1 = model.predict(test_X)\n",
    "#x=c y=accuracy\n",
    "accuracy = []\n",
    "x = np.arange(1, 15, 1)\n",
    "#k=0\n",
    "for i in x:\n",
    "    model = SVC(kernel='rbf', C=i, gamma='auto')\n",
    "    model.fit(train_X, train_y)\n",
    "    prediction = model.predict(test_X)\n",
    "    accuracy.append(metrics.accuracy_score(prediction, test_y))\n",
    "    #k=max(metrics.accuracy_score(prediction, test_y),k)\n",
    "k=metrics.accuracy_score(prediction1, test_y)\n",
    "y = np.array(accuracy)\n",
    "plt.plot(x, y)\n",
    "plt.show()\n",
    "print('准确率：', k)\n",
    "\n",
    "\n",
    "data2=data[features_remain]\n",
    "data_label=data['label']\n",
    "#创建svm分类器对象\n",
    "model = SVC(kernel='rbf', gamma='auto')\n",
    "#对分类器进行交叉验证\n",
    "gs=GridSearchCV(estimator=model,\n",
    "                param_grid=[{'C':[1,2,3,4,5,6,7,8,9,10]}],\n",
    "                scoring='accuracy',\n",
    "                cv=5)\n",
    "scores = cross_val_score(gs,data2, data_label, cv=5)\n",
    "#查看验证结果\n",
    "print(scores)\n",
    "#查看均值\n",
    "print(scores.mean())\n",
    "#查看标准差\n",
    "print(scores.std())\n"
   ]
  },
  {
   "cell_type": "code",
   "execution_count": 27,
   "metadata": {},
   "outputs": [
    {
     "data": {
      "image/png": "[encoded data removed]",
      "text/plain": [
       "<Figure size 432x288 with 1 Axes>"
      ]
     },
     "metadata": {
      "needs_background": "light"
     },
     "output_type": "display_data"
    },
    {
     "name": "stdout",
     "output_type": "stream",
     "text": [
      "准确率： 0.7166666666666667\n",
      "[0.75555556 0.74444444 0.65555556 0.58888889 0.77777778]\n",
      "0.7044444444444444\n",
      "0.07118052168020873\n"
     ]
    }
   ],
   "source": [
    "import pandas as pd\n",
    "import numpy as np\n",
    "data=pd.read_csv('test\\\\test.csv',\n",
    "                   sep=',',index_col=False,engine=\"python\")\n",
    "#删除行\n",
    "# 选取出label等于1的行,取反\n",
    "data = data[~data['label'].isin([1])] \n",
    "#print(data)\n",
    "\n",
    "#选取特征值:62通道\n",
    "features_remain = ['FP1','FP1','FPZ','FP2','AF3','AF4','F7','F5','F3','F1','FZ','F2','F4','F6'\n",
    "            ,'F8','FT7','FC5','FC3','FC1','FCZ','FC2','FC4','FC6','FT8','T7','C5'\n",
    "            ,'C3','C1','CZ','C2','C4','C6','T8','TP7','CP5','CP3','CP1','CPZ','CP2'\n",
    "            ,'CP4','CP6','TP8','P7','P5','P3','P1','PZ','P2','P4','P6','P8','PO7'\n",
    "            ,'PO5','PO3','POZ','PO4','PO6','PO8','CB1','O1','OZ','O2','CB2']\n",
    "#抽取数据作为测试集，其余作为训练集\n",
    "train, test = train_test_split(data, test_size = 0.4)\n",
    "#抽取特征选择的数值作为训练和测试数据\n",
    "train_X = train[features_remain]\n",
    "train_y=train['label']\n",
    "test_X= test[features_remain]\n",
    "test_y =test['label']\n",
    "#print(train)\n",
    "#print(test)\n",
    "model = SVC(kernel='rbf', C=9, gamma='auto')\n",
    "# 用训练集训练：\n",
    "model.fit(train_X, train_y)\n",
    "#print(model.classes_)\n",
    "# 用测试集预测：\n",
    "prediction1 = model.predict(test_X)\n",
    "#x=c y=accuracy\n",
    "accuracy = []\n",
    "x = np.arange(1, 15, 1)\n",
    "#k=0\n",
    "for i in x:\n",
    "    model = SVC(kernel='rbf', C=i, gamma='auto')\n",
    "    model.fit(train_X, train_y)\n",
    "    prediction = model.predict(test_X)\n",
    "    accuracy.append(metrics.accuracy_score(prediction, test_y))\n",
    "    #k=max(metrics.accuracy_score(prediction, test_y),k)\n",
    "k=metrics.accuracy_score(prediction1, test_y)\n",
    "y = np.array(accuracy)\n",
    "plt.plot(x, y)\n",
    "plt.show()\n",
    "print('准确率：', k)\n",
    "\n",
    "\n",
    "data2=data[features_remain]\n",
    "data_label=data['label']\n",
    "#创建svm分类器对象\n",
    "model = SVC(kernel='rbf', C=9, gamma='auto')\n",
    "#对分类器进行交叉验证\n",
    "scores = cross_val_score(model, data2, data_label, cv=5)\n",
    "#查看验证结果\n",
    "print(scores)\n",
    "#查看均值\n",
    "print(scores.mean())\n",
    "#查看标准差\n",
    "print(scores.std())"
   ]
  },
  {
   "cell_type": "code",
   "execution_count": 28,
   "metadata": {},
   "outputs": [
    {
     "data": {
      "image/png": "[encoded data removed]",
      "text/plain": [
       "<Figure size 432x288 with 1 Axes>"
      ]
     },
     "metadata": {
      "needs_background": "light"
     },
     "output_type": "display_data"
    },
    {
     "name": "stdout",
     "output_type": "stream",
     "text": [
      "准确率： 0.45925925925925926\n",
      "[0.51851852 0.58518519 0.47407407 0.38518519 0.46666667]\n",
      "0.48592592592592593\n",
      "0.0656882941552455\n"
     ]
    }
   ],
   "source": [
    "import pandas as pd\n",
    "import numpy as np\n",
    "data=pd.read_csv('test\\\\test.csv',\n",
    "                   sep=',',index_col=False,engine=\"python\")\n",
    "#删除行\n",
    "# 选取出label等于3的行,取反\n",
    "#data = data[~data['label'].isin([3])] \n",
    "#print(data)\n",
    "\n",
    "#选取特征值:53通道\n",
    "features_remain = ['FP1','FP1','FPZ','FP2','AF3','AF4','F3','F1','FZ','F2'\n",
    "            ,'FC5','FC3','FC1','FCZ','FC2','FC4','FC6','C5','C3','C1','C2'\n",
    "            ,'C4','C6','T8','TP7','CP5','CP3','CP1','CPZ','CP2','CP4','CP6'\n",
    "            ,'TP8','P7','P5','P3','PZ','P2','P4','P6','P8','PO7','PO5','PO3'\n",
    "            ,'POZ','PO4','PO8','CB1','O1','OZ','O2','CB2']\n",
    "#抽取数据作为测试集，其余作为训练集\n",
    "train, test = train_test_split(data, test_size = 0.4)\n",
    "#抽取特征选择的数值作为训练和测试数据\n",
    "train_X = train[features_remain]\n",
    "train_y=train['label']\n",
    "test_X= test[features_remain]\n",
    "test_y =test['label']\n",
    "#print(train)\n",
    "#print(test)\n",
    "model = SVC(kernel='rbf', C=9, gamma='auto')\n",
    "# 用训练集训练：\n",
    "model.fit(train_X, train_y)\n",
    "#print(model.classes_)\n",
    "# 用测试集预测：\n",
    "prediction1 = model.predict(test_X)\n",
    "#x=c y=accuracy\n",
    "accuracy = []\n",
    "x = np.arange(1, 15, 1)\n",
    "#k=0\n",
    "for i in x:\n",
    "    model = SVC(kernel='rbf', C=i, gamma='auto')\n",
    "    model.fit(train_X, train_y)\n",
    "    prediction = model.predict(test_X)\n",
    "    accuracy.append(metrics.accuracy_score(prediction, test_y))\n",
    "    #k=max(metrics.accuracy_score(prediction, test_y),k)\n",
    "k=metrics.accuracy_score(prediction1, test_y)\n",
    "y = np.array(accuracy)\n",
    "plt.plot(x, y)\n",
    "plt.show()\n",
    "print('准确率：', k)\n",
    "\n",
    "\n",
    "data2=data[features_remain]\n",
    "data_label=data['label']\n",
    "#创建svm分类器对象\n",
    "model = SVC(kernel='rbf', gamma='auto')\n",
    "#对分类器进行交叉验证\n",
    "gs=GridSearchCV(estimator=model,\n",
    "                param_grid=[{'C':[1,2,3,4,5,6,7,8,9,10]}],\n",
    "                scoring='accuracy',\n",
    "                cv=5)\n",
    "scores = cross_val_score(gs,data2, data_label, cv=5)\n",
    "#查看验证结果\n",
    "print(scores)\n",
    "#查看均值\n",
    "print(scores.mean())\n",
    "#查看标准差\n",
    "print(scores.std())\n"
   ]
  },
  {
   "cell_type": "code",
   "execution_count": 29,
   "metadata": {},
   "outputs": [
    {
     "data": {
      "image/png": "[encoded data removed]",
      "text/plain": [
       "<Figure size 432x288 with 1 Axes>"
      ]
     },
     "metadata": {
      "needs_background": "light"
     },
     "output_type": "display_data"
    },
    {
     "name": "stdout",
     "output_type": "stream",
     "text": [
      "准确率： 0.55\n",
      "[0.63333333 0.58888889 0.72222222 0.52222222 0.56666667]\n",
      "0.6066666666666667\n",
      "0.06798692684790378\n"
     ]
    }
   ],
   "source": [
    "import pandas as pd\n",
    "import numpy as np\n",
    "data=pd.read_csv('test\\\\test.csv',\n",
    "                   sep=',',index_col=False,engine=\"python\")\n",
    "#删除行\n",
    "#选取出label等于3的行,取反\n",
    "data = data[~data['label'].isin([3])] \n",
    "#print(data)\n",
    "\n",
    "#选取特征值:53通道\n",
    "features_remain = ['FP1','FP1','FPZ','FP2','AF3','AF4','F3','F1','FZ','F2'\n",
    "            ,'FC5','FC3','FC1','FCZ','FC2','FC4','FC6','C5','C3','C1','C2'\n",
    "            ,'C4','C6','T8','TP7','CP5','CP3','CP1','CPZ','CP2','CP4','CP6'\n",
    "            ,'TP8','P7','P5','P3','PZ','P2','P4','P6','P8','PO7','PO5','PO3'\n",
    "            ,'POZ','PO4','PO8','CB1','O1','OZ','O2','CB2']\n",
    "#抽取数据作为测试集，其余作为训练集\n",
    "train, test = train_test_split(data, test_size = 0.4)\n",
    "#抽取特征选择的数值作为训练和测试数据\n",
    "train_X = train[features_remain]\n",
    "train_y=train['label']\n",
    "test_X= test[features_remain]\n",
    "test_y =test['label']\n",
    "#print(train)\n",
    "#print(test)\n",
    "model = SVC(kernel='rbf', C=9, gamma='auto')\n",
    "# 用训练集训练：\n",
    "model.fit(train_X, train_y)\n",
    "#print(model.classes_)\n",
    "# 用测试集预测：\n",
    "prediction1 = model.predict(test_X)\n",
    "#x=c y=accuracy\n",
    "accuracy = []\n",
    "x = np.arange(1, 15, 1)\n",
    "#k=0\n",
    "for i in x:\n",
    "    model = SVC(kernel='rbf', C=i, gamma='auto')\n",
    "    model.fit(train_X, train_y)\n",
    "    prediction = model.predict(test_X)\n",
    "    accuracy.append(metrics.accuracy_score(prediction, test_y))\n",
    "    #k=max(metrics.accuracy_score(prediction, test_y),k)\n",
    "k=metrics.accuracy_score(prediction1, test_y)\n",
    "y = np.array(accuracy)\n",
    "plt.plot(x, y)\n",
    "plt.show()\n",
    "print('准确率：', k)\n",
    "\n",
    "data2=data[features_remain]\n",
    "data_label=data['label']\n",
    "#创建svm分类器对象\n",
    "model = SVC(kernel='rbf', gamma='auto')\n",
    "#对分类器进行交叉验证\n",
    "gs=GridSearchCV(estimator=model,\n",
    "                param_grid=[{'C':[1,2,3,4,5,6,7,8,9,10]}],\n",
    "                scoring='accuracy',\n",
    "                cv=5)\n",
    "scores = cross_val_score(gs,data2, data_label, cv=5)\n",
    "#查看验证结果\n",
    "print(scores)\n",
    "#查看均值\n",
    "print(scores.mean())\n",
    "#查看标准差\n",
    "print(scores.std())\n",
    "\n"
   ]
  },
  {
   "cell_type": "code",
   "execution_count": 30,
   "metadata": {},
   "outputs": [
    {
     "data": {
      "image/png": "[encoded data removed]",
      "text/plain": [
       "<Figure size 432x288 with 1 Axes>"
      ]
     },
     "metadata": {
      "needs_background": "light"
     },
     "output_type": "display_data"
    },
    {
     "name": "stdout",
     "output_type": "stream",
     "text": [
      "准确率： 0.7222222222222222\n",
      "[0.67777778 0.86666667 0.57777778 0.62222222 0.67777778]\n",
      "0.6844444444444445\n",
      "0.0985324412328683\n"
     ]
    }
   ],
   "source": [
    "import pandas as pd\n",
    "import numpy as np\n",
    "data=pd.read_csv('test\\\\test.csv',\n",
    "                   sep=',',index_col=False,engine=\"python\")\n",
    "#删除行\n",
    "#选取出label等于2的行,取反\n",
    "data = data[~data['label'].isin([2])] \n",
    "#print(data)\n",
    "\n",
    "#选取特征值:53通道\n",
    "features_remain = ['FP1','FP1','FPZ','FP2','AF3','AF4','F3','F1','FZ','F2'\n",
    "            ,'FC5','FC3','FC1','FCZ','FC2','FC4','FC6','C5','C3','C1','C2'\n",
    "            ,'C4','C6','T8','TP7','CP5','CP3','CP1','CPZ','CP2','CP4','CP6'\n",
    "            ,'TP8','P7','P5','P3','PZ','P2','P4','P6','P8','PO7','PO5','PO3'\n",
    "            ,'POZ','PO4','PO8','CB1','O1','OZ','O2','CB2']\n",
    "#抽取数据作为测试集，其余作为训练集\n",
    "train, test = train_test_split(data, test_size = 0.4)\n",
    "#抽取特征选择的数值作为训练和测试数据\n",
    "train_X = train[features_remain]\n",
    "train_y=train['label']\n",
    "test_X= test[features_remain]\n",
    "test_y =test['label']\n",
    "#print(train)\n",
    "#print(test)\n",
    "model = SVC(kernel='rbf', C=9, gamma='auto')\n",
    "# 用训练集训练：\n",
    "model.fit(train_X, train_y)\n",
    "#print(model.classes_)\n",
    "# 用测试集预测：\n",
    "prediction1 = model.predict(test_X)\n",
    "#x=c y=accuracy\n",
    "accuracy = []\n",
    "x = np.arange(1, 15, 1)\n",
    "#k=0\n",
    "for i in x:\n",
    "    model = SVC(kernel='rbf', C=i, gamma='auto')\n",
    "    model.fit(train_X, train_y)\n",
    "    prediction = model.predict(test_X)\n",
    "    accuracy.append(metrics.accuracy_score(prediction, test_y))\n",
    "    #k=max(metrics.accuracy_score(prediction, test_y),k)\n",
    "k=metrics.accuracy_score(prediction1, test_y)\n",
    "y = np.array(accuracy)\n",
    "plt.plot(x, y)\n",
    "plt.show()\n",
    "print('准确率：', k)\n",
    "\n",
    "data2=data[features_remain]\n",
    "data_label=data['label']\n",
    "#创建svm分类器对象\n",
    "model = SVC(kernel='rbf', gamma='auto')\n",
    "#对分类器进行交叉验证\n",
    "gs=GridSearchCV(estimator=model,\n",
    "                param_grid=[{'C':[1,2,3,4,5,6,7,8,9,10]}],\n",
    "                scoring='accuracy',\n",
    "                cv=5)\n",
    "scores = cross_val_score(gs,data2, data_label, cv=5)\n",
    "#查看验证结果\n",
    "print(scores)\n",
    "#查看均值\n",
    "print(scores.mean())\n",
    "#查看标准差\n",
    "print(scores.std())\n"
   ]
  },
  {
   "cell_type": "code",
   "execution_count": 31,
   "metadata": {},
   "outputs": [
    {
     "data": {
      "image/png": "[encoded data removed]",
      "text/plain": [
       "<Figure size 432x288 with 1 Axes>"
      ]
     },
     "metadata": {
      "needs_background": "light"
     },
     "output_type": "display_data"
    },
    {
     "name": "stdout",
     "output_type": "stream",
     "text": [
      "准确率： 0.6888888888888889\n",
      "[0.7        0.8        0.65555556 0.57777778 0.68888889]\n",
      "0.6844444444444445\n",
      "0.07187094057242771\n"
     ]
    }
   ],
   "source": [
    "\n",
    "data=pd.read_csv('test\\\\test.csv',\n",
    "                   sep=',',index_col=False,engine=\"python\")\n",
    "#删除行\n",
    "#选取出label等于1的行取反\n",
    "data = data[~data['label'].isin([1])] \n",
    "#print(data)\n",
    "\n",
    "#选取特征值:53通道\n",
    "features_remain = ['FP1','FP1','FPZ','FP2','AF3','AF4','F3','F1','FZ','F2'\n",
    "            ,'FC5','FC3','FC1','FCZ','FC2','FC4','FC6','C5','C3','C1','C2'\n",
    "            ,'C4','C6','T8','TP7','CP5','CP3','CP1','CPZ','CP2','CP4','CP6'\n",
    "            ,'TP8','P7','P5','P3','PZ','P2','P4','P6','P8','PO7','PO5','PO3'\n",
    "            ,'POZ','PO4','PO8','CB1','O1','OZ','O2','CB2']\n",
    "#抽取数据作为测试集，其余作为训练集\n",
    "train, test = train_test_split(data, test_size = 0.4)\n",
    "#抽取特征选择的数值作为训练和测试数据\n",
    "train_X = train[features_remain]\n",
    "train_y=train['label']\n",
    "test_X= test[features_remain]\n",
    "test_y =test['label']\n",
    "#print(train)\n",
    "#print(test)\n",
    "model = SVC(kernel='rbf', C=9, gamma='auto')\n",
    "# 用训练集训练：\n",
    "model.fit(train_X, train_y)\n",
    "#print(model.classes_)\n",
    "# 用测试集预测：\n",
    "prediction1 = model.predict(test_X)\n",
    "#x=c y=accuracy\n",
    "accuracy = []\n",
    "x = np.arange(1, 15, 1)\n",
    "#k=0\n",
    "for i in x:\n",
    "    model = SVC(kernel='rbf', C=i, gamma='auto')\n",
    "    model.fit(train_X, train_y)\n",
    "    prediction = model.predict(test_X)\n",
    "    accuracy.append(metrics.accuracy_score(prediction, test_y))\n",
    "    #k=max(metrics.accuracy_score(prediction, test_y),k)\n",
    "k=metrics.accuracy_score(prediction1, test_y)\n",
    "y = np.array(accuracy)\n",
    "plt.plot(x, y)\n",
    "plt.show()\n",
    "print('准确率：', k)\n",
    "\n",
    "\n",
    "data2=data[features_remain]\n",
    "data_label=data['label']\n",
    "#创建svm分类器对象\n",
    "model = SVC(kernel='rbf', gamma='auto')\n",
    "#对分类器进行交叉验证\n",
    "gs=GridSearchCV(estimator=model,\n",
    "                param_grid=[{'C':[1,2,3,4,5,6,7,8,9,10]}],\n",
    "                scoring='accuracy',\n",
    "                cv=5)\n",
    "scores = cross_val_score(gs,data2, data_label, cv=5)\n",
    "#查看验证结果\n",
    "print(scores)\n",
    "#查看均值\n",
    "print(scores.mean())\n",
    "#查看标准差\n",
    "print(scores.std())\n",
    "\n"
   ]
  },
  {
   "cell_type": "code",
   "execution_count": 32,
   "metadata": {},
   "outputs": [
    {
     "data": {
      "image/png": "[encoded data removed]",
      "text/plain": [
       "<Figure size 432x288 with 1 Axes>"
      ]
     },
     "metadata": {
      "needs_background": "light"
     },
     "output_type": "display_data"
    },
    {
     "name": "stdout",
     "output_type": "stream",
     "text": [
      "准确率： 0.5814814814814815\n",
      "[0.57777778 0.58518519 0.51111111 0.48888889 0.62222222]\n",
      "0.557037037037037\n",
      "0.04944687190601078\n"
     ]
    }
   ],
   "source": [
    "data=pd.read_csv('test\\\\test.csv',\n",
    "                   sep=',',index_col=False,engine=\"python\")\n",
    "#删除行\n",
    "#选取出label等于1的行取反\n",
    "#data = data[~data['label'].isin([1])] \n",
    "#print(data)\n",
    "\n",
    "#选取特征值:12通道\n",
    "features_remain = ['FT7','FT8','T7','T8','C5','C6','TP7','TP8','CP5','CP6','P7','P8']\n",
    "#抽取数据作为测试集，其余作为训练集\n",
    "train, test = train_test_split(data, test_size = 0.4)\n",
    "#抽取特征选择的数值作为训练和测试数据\n",
    "train_X = train[features_remain]\n",
    "train_y=train['label']\n",
    "test_X= test[features_remain]\n",
    "test_y =test['label']\n",
    "#print(train)\n",
    "#print(test)\n",
    "model = SVC(kernel='rbf', C=9, gamma='auto')\n",
    "# 用训练集训练：\n",
    "model.fit(train_X, train_y)\n",
    "#print(model.classes_)\n",
    "# 用测试集预测：\n",
    "prediction1 = model.predict(test_X)\n",
    "#x=c y=accuracy\n",
    "accuracy = []\n",
    "x = np.arange(1, 15, 1)\n",
    "#k=0\n",
    "for i in x:\n",
    "    model = SVC(kernel='rbf', C=i, gamma='auto')\n",
    "    model.fit(train_X, train_y)\n",
    "    prediction = model.predict(test_X)\n",
    "    accuracy.append(metrics.accuracy_score(prediction, test_y))\n",
    "    #k=max(metrics.accuracy_score(prediction, test_y),k)\n",
    "k=metrics.accuracy_score(prediction1, test_y)\n",
    "y = np.array(accuracy)\n",
    "plt.plot(x, y)\n",
    "plt.show()\n",
    "print('准确率：', k)\n",
    "\n",
    "\n",
    "data2=data[features_remain]\n",
    "data_label=data['label']\n",
    "#创建svm分类器对象\n",
    "model = SVC(kernel='rbf', gamma='auto')\n",
    "#对分类器进行交叉验证\n",
    "gs=GridSearchCV(estimator=model,\n",
    "                param_grid=[{'C':[1,2,3,4,5,6,7,8,9,10]}],\n",
    "                scoring='accuracy',\n",
    "                cv=5)\n",
    "scores = cross_val_score(gs,data2, data_label, cv=5)\n",
    "#查看验证结果\n",
    "print(scores)\n",
    "#查看均值\n",
    "print(scores.mean())\n",
    "#查看标准差\n",
    "print(scores.std())\n"
   ]
  },
  {
   "cell_type": "code",
   "execution_count": 33,
   "metadata": {},
   "outputs": [
    {
     "data": {
      "image/png": "[encoded data removed]",
      "text/plain": [
       "<Figure size 432x288 with 1 Axes>"
      ]
     },
     "metadata": {
      "needs_background": "light"
     },
     "output_type": "display_data"
    },
    {
     "name": "stdout",
     "output_type": "stream",
     "text": [
      "准确率： 0.7666666666666667\n",
      "[0.81111111 0.88888889 0.67777778 0.83333333 0.86666667]\n",
      "0.8155555555555555\n",
      "0.07390350732584838\n"
     ]
    }
   ],
   "source": [
    "data=pd.read_csv('test\\\\test.csv',\n",
    "                   sep=',',index_col=False,engine=\"python\")\n",
    "#删除行\n",
    "#选取出label等于2的行取反\n",
    "data = data[~data['label'].isin([2])] \n",
    "#print(data)\n",
    "\n",
    "#选取特征值:12通道\n",
    "features_remain = ['FT7','FT8','T7','T8','C5','C6','TP7','TP8','CP5','CP6','P7','P8']\n",
    "#抽取数据作为测试集，其余作为训练集\n",
    "train, test = train_test_split(data, test_size = 0.4)\n",
    "#抽取特征选择的数值作为训练和测试数据\n",
    "train_X = train[features_remain]\n",
    "train_y=train['label']\n",
    "test_X= test[features_remain]\n",
    "test_y =test['label']\n",
    "#print(train)\n",
    "#print(test)\n",
    "model = SVC(kernel='rbf', C=9, gamma='auto')\n",
    "# 用训练集训练：\n",
    "model.fit(train_X, train_y)\n",
    "#print(model.classes_)\n",
    "# 用测试集预测：\n",
    "prediction1 = model.predict(test_X)\n",
    "#x=c y=accuracy\n",
    "accuracy = []\n",
    "x = np.arange(1, 15, 1)\n",
    "#k=0\n",
    "for i in x:\n",
    "    model = SVC(kernel='rbf', C=i, gamma='auto')\n",
    "    model.fit(train_X, train_y)\n",
    "    prediction = model.predict(test_X)\n",
    "    accuracy.append(metrics.accuracy_score(prediction, test_y))\n",
    "    #k=max(metrics.accuracy_score(prediction, test_y),k)\n",
    "k=metrics.accuracy_score(prediction1, test_y)\n",
    "y = np.array(accuracy)\n",
    "plt.plot(x, y)\n",
    "plt.show()\n",
    "print('准确率：', k)\n",
    "\n",
    "\n",
    "data2=data[features_remain]\n",
    "data_label=data['label']\n",
    "#创建svm分类器对象\n",
    "model = SVC(kernel='rbf', gamma='auto')\n",
    "#对分类器进行交叉验证\n",
    "gs=GridSearchCV(estimator=model,\n",
    "                param_grid=[{'C':[1,2,3,4,5,6,7,8,9,10]}],\n",
    "                scoring='accuracy',\n",
    "                cv=5)\n",
    "scores = cross_val_score(gs,data2, data_label, cv=5)\n",
    "#查看验证结果\n",
    "print(scores)\n",
    "#查看均值\n",
    "print(scores.mean())\n",
    "#查看标准差\n",
    "print(scores.std())\n"
   ]
  },
  {
   "cell_type": "code",
   "execution_count": 35,
   "metadata": {},
   "outputs": [
    {
     "data": {
      "image/png": "[encoded data removed]",
      "text/plain": [
       "<Figure size 432x288 with 1 Axes>"
      ]
     },
     "metadata": {
      "needs_background": "light"
     },
     "output_type": "display_data"
    },
    {
     "name": "stdout",
     "output_type": "stream",
     "text": [
      "准确率： 0.8055555555555556\n",
      "[0.77777778 0.82222222 0.72222222 0.78888889 0.88888889]\n",
      "0.8\n",
      "0.054884840156570955\n"
     ]
    }
   ],
   "source": [
    "data=pd.read_csv('test\\\\test.csv',\n",
    "                   sep=',',index_col=False,engine=\"python\")\n",
    "#删除行\n",
    "#选取出label等于1的行取反\n",
    "data = data[~data['label'].isin([1])] \n",
    "#print(data)\n",
    "\n",
    "#选取特征值:12通道\n",
    "features_remain = ['FT7','FT8','T7','T8','C5','C6','TP7','TP8','CP5','CP6','P7','P8']\n",
    "#抽取数据作为测试集，其余作为训练集\n",
    "train, test = train_test_split(data, test_size = 0.4)\n",
    "#抽取特征选择的数值作为训练和测试数据\n",
    "train_X = train[features_remain]\n",
    "train_y=train['label']\n",
    "test_X= test[features_remain]\n",
    "test_y =test['label']\n",
    "#print(train)\n",
    "#print(test)\n",
    "model = SVC(kernel='rbf', C=9, gamma='auto')\n",
    "# 用训练集训练：\n",
    "model.fit(train_X, train_y)\n",
    "#print(model.classes_)\n",
    "# 用测试集预测：\n",
    "prediction1 = model.predict(test_X)\n",
    "#x=c y=accuracy\n",
    "accuracy = []\n",
    "x = np.arange(1, 15, 1)\n",
    "#k=0\n",
    "for i in x:\n",
    "    model = SVC(kernel='rbf', C=i, gamma='auto')\n",
    "    model.fit(train_X, train_y)\n",
    "    prediction = model.predict(test_X)\n",
    "    accuracy.append(metrics.accuracy_score(prediction, test_y))\n",
    "    #k=max(metrics.accuracy_score(prediction, test_y),k)\n",
    "k=metrics.accuracy_score(prediction1, test_y)\n",
    "y = np.array(accuracy)\n",
    "plt.plot(x, y)\n",
    "plt.show()\n",
    "print('准确率：', k)\n",
    "\n",
    "data2=data[features_remain]\n",
    "data_label=data['label']\n",
    "#创建svm分类器对象\n",
    "model = SVC(kernel='rbf', gamma='auto')\n",
    "#对分类器进行交叉验证\n",
    "gs=GridSearchCV(estimator=model,\n",
    "                param_grid=[{'C':[1,2,3,4,5,6,7,8,9,10]}],\n",
    "                scoring='accuracy',\n",
    "                cv=5)\n",
    "scores = cross_val_score(gs,data2, data_label, cv=5)\n",
    "#查看验证结果\n",
    "print(scores)\n",
    "#查看均值\n",
    "print(scores.mean())\n",
    "#查看标准差\n",
    "print(scores.std())\n"
   ]
  },
  {
   "cell_type": "code",
   "execution_count": 34,
   "metadata": {},
   "outputs": [
    {
     "data": {
      "image/png": "[encoded data removed]",
      "text/plain": [
       "<Figure size 432x288 with 1 Axes>"
      ]
     },
     "metadata": {
      "needs_background": "light"
     },
     "output_type": "display_data"
    },
    {
     "name": "stdout",
     "output_type": "stream",
     "text": [
      "准确率： 0.5666666666666667\n",
      "[0.6        0.52222222 0.62222222 0.5        0.6       ]\n",
      "0.5688888888888889\n",
      "0.04838120234906052\n"
     ]
    }
   ],
   "source": [
    "data=pd.read_csv('test\\\\test.csv',\n",
    "                   sep=',',index_col=False,engine=\"python\")\n",
    "#删除行\n",
    "#选取出label等于3的行取反\n",
    "data = data[~data['label'].isin([3])] \n",
    "#print(data)\n",
    "\n",
    "#选取特征值:12通道\n",
    "features_remain = ['FT7','FT8','T7','T8','C5','C6','TP7','TP8','CP5','CP6','P7','P8']\n",
    "#抽取数据作为测试集，其余作为训练集\n",
    "train, test = train_test_split(data, test_size = 0.4)\n",
    "#抽取特征选择的数值作为训练和测试数据\n",
    "train_X = train[features_remain]\n",
    "train_y=train['label']\n",
    "test_X= test[features_remain]\n",
    "test_y =test['label']\n",
    "#print(train)\n",
    "#print(test)\n",
    "model = SVC(kernel='rbf', C=9, gamma='auto')\n",
    "# 用训练集训练：\n",
    "model.fit(train_X, train_y)\n",
    "#print(model.classes_)\n",
    "# 用测试集预测：\n",
    "prediction1 = model.predict(test_X)\n",
    "#x=c y=accuracy\n",
    "accuracy = []\n",
    "x = np.arange(1, 15, 1)\n",
    "#k=0\n",
    "for i in x:\n",
    "    model = SVC(kernel='rbf', C=i, gamma='auto')\n",
    "    model.fit(train_X, train_y)\n",
    "    prediction = model.predict(test_X)\n",
    "    accuracy.append(metrics.accuracy_score(prediction, test_y))\n",
    "    #k=max(metrics.accuracy_score(prediction, test_y),k)\n",
    "k=metrics.accuracy_score(prediction1, test_y)\n",
    "y = np.array(accuracy)\n",
    "plt.plot(x, y)\n",
    "plt.show()\n",
    "print('准确率：', k)\n",
    "\n",
    "data2=data[features_remain]\n",
    "data_label=data['label']\n",
    "#创建svm分类器对象\n",
    "model = SVC(kernel='rbf', gamma='auto')\n",
    "#对分类器进行交叉验证\n",
    "gs=GridSearchCV(estimator=model,\n",
    "                param_grid=[{'C':[1,2,3,4,5,6,7,8,9,10]}],\n",
    "                scoring='accuracy',\n",
    "                cv=5)\n",
    "scores = cross_val_score(gs,data2, data_label, cv=5)\n",
    "#查看验证结果\n",
    "print(scores)\n",
    "#查看均值\n",
    "print(scores.mean())\n",
    "#查看标准差\n",
    "print(scores.std())\n",
    "\n"
   ]
  },
  {
   "cell_type": "code",
   "execution_count": null,
   "metadata": {},
   "outputs": [],
   "source": []
  }
 ],
 "metadata": {
  "kernelspec": {
   "display_name": "Python 3",
   "language": "python",
   "name": "python3"
  },
  "language_info": {
   "codemirror_mode": {
    "name": "ipython",
    "version": 3
   },
   "file_extension": ".py",
   "mimetype": "text/x-python",
   "name": "python",
   "nbconvert_exporter": "python",
   "pygments_lexer": "ipython3",
   "version": "3.8.5"
  }
 },
 "nbformat": 4,
 "nbformat_minor": 4
}
