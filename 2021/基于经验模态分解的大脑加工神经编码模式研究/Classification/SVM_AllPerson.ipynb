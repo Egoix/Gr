{
 "cells": [
  {
   "cell_type": "code",
   "execution_count": 1,
   "metadata": {},
   "outputs": [
    {
     "name": "stdout",
     "output_type": "stream",
     "text": [
      "ok\n"
     ]
    }
   ],
   "source": [
    "import os\n",
    "import numpy as np\n",
    "import pandas as pd\n",
    "import matplotlib.pyplot as plt\n",
    "from sklearn import svm\n",
    "from sklearn.model_selection import KFold, ShuffleSplit\n",
    "from sklearn.model_selection import cross_val_score\n",
    "from sklearn.svm import SVC\n",
    "print(\"ok\")\n",
    "# 第一个为SVM单人分类 第二个为SVM多人分类"
   ]
  },
  {
   "cell_type": "code",
   "execution_count": 2,
   "metadata": {},
   "outputs": [],
   "source": [
    "data_path = r'D:\\project\\BrainEEG\\EMD+PSR+CTM\\Classification\\Data'\n",
    "result_path = r'D:\\project\\BrainEEG\\EMD+PSR+CTM\\Classification\\result'\n",
    "pids = [1,2,3,4,5,6,7,8,9,10,11,12,13,14,15,16,17,18,19,20]\n",
    "\n",
    "for pid in pids:\n",
    "    cls_tmp = {0:'C2', 1:'c12', 2:'c22'}\n",
    "    col_tmp = [f'R{i//3+1:02}{cls_tmp[i%3]}' for i in range(60)]\n",
    "    acc_result = pd.DataFrame(np.zeros((10, 60)), columns=col_tmp)\n",
    "    \n",
    "    for r in range(1,21):\n",
    "        data_file = f'VP{pid:02}R{r}.csv'\n",
    "        tmp = pd.read_csv(f'{data_path}\\\\VP{pid:02}\\\\{data_file}')\n",
    "        \n",
    "        # 读入\n",
    "        X = tmp.to_numpy()[:,:20]\n",
    "        Y = tmp.to_numpy()[:,20:]\n",
    "        \n",
    "        # 极差归一化 大类数据\n",
    "        X_C2 = ((X - X.min()) / (X.max() - X.min()))\n",
    "        Y_C2 = Y[:,0]\n",
    "        \n",
    "        # 小类数据\n",
    "        split_pos = sum([1 for i in Y_C2 if i == 1])\n",
    "        X_C12 = X_C2[:split_pos, :]\n",
    "        Y_C12 = Y[:split_pos, 1]\n",
    "        X_C22 = X_C2[split_pos:, :]\n",
    "        Y_C22 = Y[split_pos:, 1]\n",
    "        \n",
    "        # 分类\n",
    "        clf = svm.SVC()\n",
    "        kf = ShuffleSplit(n_splits=5)\n",
    "\n",
    "        for kk in range(10):\n",
    "            \n",
    "            scores_C2 = cross_val_score(clf, X_C2, Y_C2, cv=kf, scoring='accuracy')\n",
    "            scores_C12 = cross_val_score(clf, X_C12, Y_C12, cv=kf, scoring='accuracy')\n",
    "            scores_C22 = cross_val_score(clf, X_C22, Y_C22, cv=kf, scoring='accuracy')\n",
    "            acc_result.iat[kk, (r-1)*3] = np.mean(scores_C2)\n",
    "            acc_result.iat[kk, (r-1)*3+1] = np.mean(scores_C12)\n",
    "            acc_result.iat[kk, (r-1)*3+2] = np.mean(scores_C22)\n",
    "    \n",
    "    acc_result.to_csv(f'{result_path}\\\\VP{pid:02}.csv')"
   ]
  },
  {
   "cell_type": "code",
   "execution_count": 3,
   "metadata": {},
   "outputs": [],
   "source": [
    "data_path = r'D:\\project\\BrainEEG\\EMD+PSR+CTM\\Classification\\Data'\n",
    "result_path = r'D:\\project\\BrainEEG\\EMD+PSR+CTM\\Classification\\result'\n",
    "pids = [1,2,3,4,5,6,7,8,9,10,11,12,13,14,15,16,17,18,19,20]\n",
    "\n",
    "cls_tmp = {0:'C2', 1:'c12', 2:'c22'}\n",
    "col_tmp = [f'R{i//3+1:02}{cls_tmp[i%3]}' for i in range(60)]\n",
    "acc_result = pd.DataFrame(np.zeros((10, 60)), columns=col_tmp)\n",
    "\n",
    "for r in range(1,21):\n",
    "    \n",
    "    X_C2 = np.zeros((1,20))\n",
    "    Y_C2 = np.array(0)\n",
    "    X_C12 = np.zeros((1,20))\n",
    "    Y_C12 = np.array(0)\n",
    "    X_C22 = np.zeros((1,20))\n",
    "    Y_C22 = np.array(0)\n",
    "    \n",
    "    for pid in pids:\n",
    "        data_file = f'VP{pid:02}R{r}.csv'\n",
    "        tmp = pd.read_csv(f'{data_path}\\\\VP{pid:02}\\\\{data_file}')\n",
    "        \n",
    "        # 读入\n",
    "        t_X = tmp.to_numpy()[:,:20]\n",
    "        t_Y = tmp.to_numpy()[:,20:]\n",
    "        \n",
    "        # 极差归一化 大类数据\n",
    "        t_X_C2 = ((t_X - t_X.min()) / (t_X.max() - t_X.min()))\n",
    "        t_Y_C2 = t_Y[:,0]\n",
    "        \n",
    "        # 小类数据\n",
    "        split_pos = sum([1 for i in t_Y_C2 if i == 1])\n",
    "        t_X_C12 = t_X_C2[:split_pos, :]\n",
    "        t_Y_C12 = t_Y[:split_pos, 1]\n",
    "        t_X_C22 = t_X_C2[split_pos:, :]\n",
    "        t_Y_C22 = t_Y[split_pos:, 1]\n",
    "        \n",
    "        X_C2 = np.vstack((X_C2, t_X_C2))\n",
    "        Y_C2 = np.hstack((Y_C2, t_Y_C2))\n",
    "        X_C12 = np.vstack((X_C12, t_X_C12))\n",
    "        Y_C12 = np.hstack((Y_C12, t_Y_C12))\n",
    "        X_C22 = np.vstack((X_C22, t_X_C22))\n",
    "        Y_C22 = np.hstack((Y_C22, t_Y_C22))  \n",
    "    \n",
    "    X_C2 = X_C2[1:,:]\n",
    "    Y_C2 = Y_C2[1:]\n",
    "    X_C12 = X_C12[1:,:]\n",
    "    Y_C12 = Y_C12[1:]\n",
    "    X_C22 = X_C22[1:,:]\n",
    "    Y_C22 = Y_C22[1:]\n",
    "    \n",
    "    # 分类\n",
    "    clf = svm.SVC()\n",
    "    kf = ShuffleSplit(n_splits=5)\n",
    "\n",
    "    for kk in range(10):\n",
    "            \n",
    "        scores_C2 = cross_val_score(clf, X_C2, Y_C2, cv=kf, scoring='accuracy')\n",
    "        scores_C12 = cross_val_score(clf, X_C12, Y_C12, cv=kf, scoring='accuracy')\n",
    "        scores_C22 = cross_val_score(clf, X_C22, Y_C22, cv=kf, scoring='accuracy')\n",
    "        acc_result.iat[kk, (r-1)*3] = np.mean(scores_C2)\n",
    "        acc_result.iat[kk, (r-1)*3+1] = np.mean(scores_C12)\n",
    "        acc_result.iat[kk, (r-1)*3+2] = np.mean(scores_C22)\n",
    "    \n",
    "acc_result.to_csv(f'{result_path}\\\\AP.csv')\n",
    "    "
   ]
  },
  {
   "cell_type": "code",
   "execution_count": null,
   "metadata": {},
   "outputs": [],
   "source": []
  },
  {
   "cell_type": "code",
   "execution_count": null,
   "metadata": {},
   "outputs": [],
   "source": [
    "a = np.array(0)\n",
    "b = np.array(1)\n",
    "c = np.hstack((a,b))\n",
    "c"
   ]
  },
  {
   "cell_type": "code",
   "execution_count": null,
   "metadata": {},
   "outputs": [],
   "source": []
  },
  {
   "cell_type": "code",
   "execution_count": null,
   "metadata": {},
   "outputs": [],
   "source": []
  },
  {
   "cell_type": "code",
   "execution_count": null,
   "metadata": {},
   "outputs": [],
   "source": []
  }
 ],
 "metadata": {
  "kernelspec": {
   "display_name": "Python 3",
   "language": "python",
   "name": "python3"
  },
  "language_info": {
   "codemirror_mode": {
    "name": "ipython",
    "version": 3
   },
   "file_extension": ".py",
   "mimetype": "text/x-python",
   "name": "python",
   "nbconvert_exporter": "python",
   "pygments_lexer": "ipython3",
   "version": "3.7.7"
  }
 },
 "nbformat": 4,
 "nbformat_minor": 4
}
